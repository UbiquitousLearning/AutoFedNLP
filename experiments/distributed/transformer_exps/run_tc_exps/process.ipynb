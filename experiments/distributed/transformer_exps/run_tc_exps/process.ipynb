{
 "cells": [
  {
   "cell_type": "code",
   "execution_count": 28,
   "metadata": {},
   "outputs": [
    {
     "name": "stdout",
     "output_type": "stream",
     "text": [
      "[[0, 0, 2, 2, 2, 2, 2, 3, 3, 3, 3, 3, 3, 3, 3, 3, 3, 3, 3, 4, 4, 4, 4, 4, 4, 4, 4, 5, 5, 5, 5, 6, 6, 6, 6, 7, 7, 8, 8, 8, 8, 9, 9, 10, 10, 10], [-1, 79, 88, 180, 269, 355, 438, 493, 571, 647, 721, 795, 869, 943, 1012, 1081, 1155, 1229, 1303, 1351, 1414, 1486, 1547, 1619, 1691, 1750, 1809, 1856, 1928, 2000, 2072, 2117, 2171, 2225, 2296, 2341, 2393, 2438, 2509, 2580, 2630, 2674, 2744, 2788, 2858, 2928], 10, [8, 16, 16, 16, 24, 32, 40, 40, 48, 56, 64, 64, 72, 80, 80, 80, 88, 96, 104, 104, 104, 112, 112, 120, 128, 128, 128, 128, 136, 144, 152, 152, 152, 152, 160, 160, 160, 160, 168, 176, 176, 176, 184, 184, 192, 200]]\n",
      "\n"
     ]
    },
    {
     "data": {
      "text/plain": [
       "[0.0,\n",
       " 0.4689325544344132,\n",
       " 0.5634625597450876,\n",
       " 0.7161444503451938,\n",
       " 0.728890069038768,\n",
       " 0.7396441848114711,\n",
       " 0.7472118959107806,\n",
       " 0.7507966011683483,\n",
       " 0.7569038767923526,\n",
       " 0.7635422198619225,\n",
       " 0.7664630908125332,\n",
       " 0.7707116303770579,\n",
       " 0.7756240042485396,\n",
       " 0.7809346787041954,\n",
       " 0.7810674455655868,\n",
       " 0.7837227827934148,\n",
       " 0.787838555496548,\n",
       " 0.7915560276155071,\n",
       " 0.7928836962294211,\n",
       " 0.794875199150292,\n",
       " 0.79753053637812,\n",
       " 0.8011152416356877,\n",
       " 0.8027084439723845,\n",
       " 0.8041688794476899,\n",
       " 0.8074880509824748,\n",
       " 0.8078863515666491,\n",
       " 0.8106744556558683,\n",
       " 0.8116038236856079,\n",
       " 0.8109399893786511,\n",
       " 0.8130642591609134,\n",
       " 0.8131970260223048,\n",
       " 0.8149229952203929,\n",
       " 0.8145246946362188,\n",
       " 0.8158523632501328,\n",
       " 0.8178438661710037,\n",
       " 0.8178438661710037,\n",
       " 0.8194370685077005,\n",
       " 0.8203664365374402,\n",
       " 0.8211630377057887,\n",
       " 0.8197026022304833,\n",
       " 0.8212958045671801,\n",
       " 0.820631970260223,\n",
       " 0.8216941051513542,\n",
       " 0.8232873074880509,\n",
       " 0.8236856080722251,\n",
       " 0.8240839086563994]"
      ]
     },
     "execution_count": 28,
     "metadata": {},
     "output_type": "execute_result"
    }
   ],
   "source": [
    "import ast\n",
    "import pandas as pd\n",
    "\n",
    "# 读取日志文件\n",
    "def read_log_file(log_file):\n",
    "    with open(log_file, 'r') as f:\n",
    "        lines = f.readlines()\n",
    "    return lines\n",
    "\n",
    "a = read_log_file('/data/cdq/current_project/FedAdapter/experiments/distributed/transformer_exps/run_tc_exps/results/20news-depth-0-freq-60.log')\n",
    "\n",
    "list = []\n",
    "# 看某一行是否存在Current time_threshold is:，如果存在，将其上两行的数据提取出来\n",
    "def get_data(lines):\n",
    "    data = []\n",
    "    for i in range(len(lines)):\n",
    "        line = lines[i]\n",
    "        if 'Current time_threshold is:' in line:\n",
    "            list.append(lines[i-2])\n",
    "            list.append(lines[i-1])\n",
    "\n",
    "get_data(a)\n",
    "print(list[-2])\n",
    "# 移除字符串末尾的换行符\n",
    "dep_wid_round = list[-2].rstrip('\\n')\n",
    "acc = list[-1].rstrip('\\n')\n",
    "# 使用ast模块将字符串解析为Python对象\n",
    "dep_wid_round = ast.literal_eval(dep_wid_round)\n",
    "acc = ast.literal_eval(acc)\n",
    "\n",
    "# 将acc中的所有元素转换为float类型\n",
    "acc = [float(i) for i in acc]\n",
    "\n",
    "dep = dep_wid_round[0]\n",
    "wid = dep_wid_round[3]\n",
    "round = dep_wid_round[1]\n",
    "\n",
    "\n",
    "\n",
    "# 用pandas将acc，dep，wid，round保存到csv文件中\n",
    "df = pd.DataFrame({'acc':acc, 'dep':dep, 'wid':wid, 'round':round})\n",
    "df.to_csv('/data/cdq/current_project/FedAdapter/experiments/distributed/transformer_exps/run_tc_exps/results/20news-depth-0-freq-60.csv', index=False)\n",
    "\n",
    "# 读取csv文件\n",
    "df = pd.read_csv('/data/cdq/current_project/FedAdapter/experiments/distributed/transformer_exps/run_tc_exps/results/20news-depth-0-freq-60.csv')\n",
    "# 每一列作为一个list\n",
    "acc = df['acc'].tolist()\n",
    "acc"
   ]
  }
 ],
 "metadata": {
  "kernelspec": {
   "display_name": "fednlp",
   "language": "python",
   "name": "python3"
  },
  "language_info": {
   "name": "python",
   "version": "3.7.11"
  },
  "orig_nbformat": 4
 },
 "nbformat": 4,
 "nbformat_minor": 2
}
